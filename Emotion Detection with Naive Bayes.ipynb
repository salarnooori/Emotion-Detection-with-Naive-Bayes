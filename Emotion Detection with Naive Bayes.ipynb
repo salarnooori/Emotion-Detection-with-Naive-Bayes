{
 "cells": [
  {
   "cell_type": "markdown",
   "id": "de2b1c64",
   "metadata": {
    "papermill": {
     "duration": 0.010917,
     "end_time": "2023-12-02T19:01:23.765340",
     "exception": false,
     "start_time": "2023-12-02T19:01:23.754423",
     "status": "completed"
    },
    "tags": []
   },
   "source": [
    "## Naive Bayes - ML\n"
   ]
  },
  {
   "cell_type": "markdown",
   "id": "d5fdf85d",
   "metadata": {
    "id": "wyO9QVndoLPQ",
    "papermill": {
     "duration": 0.01248,
     "end_time": "2023-12-02T19:01:23.720359",
     "exception": false,
     "start_time": "2023-12-02T19:01:23.707879",
     "status": "completed"
    },
    "tags": []
   },
   "source": [
    "# Phase 0: Intro"
   ]
  },
  {
   "cell_type": "markdown",
   "id": "2d7644c1",
   "metadata": {
    "id": "zncm1JE1oSQl",
    "papermill": {
     "duration": 0.011065,
     "end_time": "2023-12-02T19:01:23.743160",
     "exception": false,
     "start_time": "2023-12-02T19:01:23.732095",
     "status": "completed"
    },
    "tags": []
   },
   "source": [
    "**In this Notebook, we will develop Naive Bayes models to perform text classification. The dataset contains texts and the feelings correspond to each text. our goal is to make a model to predict the emotion associated with each given text.**"
   ]
  },
  {
   "cell_type": "markdown",
   "id": "ce1cf60d",
   "metadata": {
    "id": "0lWioVAHBYFS",
    "papermill": {
     "duration": 0.011138,
     "end_time": "2023-12-02T19:01:23.787740",
     "exception": false,
     "start_time": "2023-12-02T19:01:23.776602",
     "status": "completed"
    },
    "tags": []
   },
   "source": [
    "Importing necessary libraries"
   ]
  },
  {
   "cell_type": "code",
   "execution_count": 1,
   "id": "df729da3",
   "metadata": {
    "execution": {
     "iopub.execute_input": "2023-12-02T19:01:23.813673Z",
     "iopub.status.busy": "2023-12-02T19:01:23.812862Z",
     "iopub.status.idle": "2023-12-02T19:01:32.039588Z",
     "shell.execute_reply": "2023-12-02T19:01:32.037563Z"
    },
    "id": "bcBZwjpJBU30",
    "papermill": {
     "duration": 8.243592,
     "end_time": "2023-12-02T19:01:32.042866",
     "exception": false,
     "start_time": "2023-12-02T19:01:23.799274",
     "status": "completed"
    },
    "tags": []
   },
   "outputs": [],
   "source": [
    "import nltk\n",
    "import pandas\n",
    "import sklearn\n",
    "import string\n",
    "import spacy\n",
    "import re\n",
    "import numpy as np\n",
    "import pandas as pd\n",
    "from matplotlib import pyplot as plt\n",
    "from nltk.stem import WordNetLemmatizer\n",
    "from nltk.tokenize import word_tokenize\n",
    "from nltk.corpus import stopwords\n",
    "from sklearn.model_selection import train_test_split\n",
    "from sklearn.naive_bayes import MultinomialNB\n",
    "from sklearn.metrics import accuracy_score\n",
    "from sklearn.metrics import confusion_matrix\n",
    "from sklearn.metrics import classification_report\n",
    "from collections import defaultdict"
   ]
  },
  {
   "cell_type": "code",
   "execution_count": 2,
   "id": "53e39cdd",
   "metadata": {
    "execution": {
     "iopub.execute_input": "2023-12-02T19:01:32.072668Z",
     "iopub.status.busy": "2023-12-02T19:01:32.071056Z",
     "iopub.status.idle": "2023-12-02T19:01:43.795059Z",
     "shell.execute_reply": "2023-12-02T19:01:43.793095Z"
    },
    "id": "USv0nt0Vsec_",
    "outputId": "f7f34f32-344b-49a0-e128-7b51444d3c36",
    "papermill": {
     "duration": 11.741939,
     "end_time": "2023-12-02T19:01:43.798008",
     "exception": false,
     "start_time": "2023-12-02T19:01:32.056069",
     "status": "completed"
    },
    "tags": []
   },
   "outputs": [
    {
     "name": "stdout",
     "output_type": "stream",
     "text": [
      "Requirement already satisfied: nltk in /opt/conda/lib/python3.10/site-packages (3.2.4)\r\n",
      "Requirement already satisfied: six in /opt/conda/lib/python3.10/site-packages (from nltk) (1.16.0)\r\n"
     ]
    }
   ],
   "source": [
    "!pip install nltk"
   ]
  },
  {
   "cell_type": "code",
   "execution_count": 3,
   "id": "3dc81e4b",
   "metadata": {
    "execution": {
     "iopub.execute_input": "2023-12-02T19:01:43.824713Z",
     "iopub.status.busy": "2023-12-02T19:01:43.824282Z",
     "iopub.status.idle": "2023-12-02T19:01:44.841371Z",
     "shell.execute_reply": "2023-12-02T19:01:44.840557Z"
    },
    "id": "h0ullxNxsid5",
    "outputId": "af9ccb9a-e6cb-4f7f-94f5-bf217c900c05",
    "papermill": {
     "duration": 1.033615,
     "end_time": "2023-12-02T19:01:44.844229",
     "exception": false,
     "start_time": "2023-12-02T19:01:43.810614",
     "status": "completed"
    },
    "tags": []
   },
   "outputs": [
    {
     "name": "stdout",
     "output_type": "stream",
     "text": [
      "[nltk_data] Downloading package punkt to /usr/share/nltk_data...\n",
      "[nltk_data]   Package punkt is already up-to-date!\n",
      "[nltk_data] Downloading package stopwords to /usr/share/nltk_data...\n",
      "[nltk_data]   Package stopwords is already up-to-date!\n"
     ]
    }
   ],
   "source": [
    "import nltk\n",
    "nltk.download('punkt')\n",
    "nltk.download('stopwords')\n",
    "nlp = spacy.load(\"en_core_web_sm\")"
   ]
  },
  {
   "cell_type": "code",
   "execution_count": 4,
   "id": "567d49cc",
   "metadata": {
    "execution": {
     "iopub.execute_input": "2023-12-02T19:01:44.872734Z",
     "iopub.status.busy": "2023-12-02T19:01:44.871672Z",
     "iopub.status.idle": "2023-12-02T19:01:45.911094Z",
     "shell.execute_reply": "2023-12-02T19:01:45.910231Z"
    },
    "id": "_syr-zPSirCE",
    "outputId": "a063c1b0-1f63-48e5-e060-a0513899be9e",
    "papermill": {
     "duration": 1.055922,
     "end_time": "2023-12-02T19:01:45.913321",
     "exception": false,
     "start_time": "2023-12-02T19:01:44.857399",
     "status": "completed"
    },
    "tags": []
   },
   "outputs": [
    {
     "name": "stdout",
     "output_type": "stream",
     "text": [
      "--2023-12-02 19:01:45--  https://www.dropbox.com/scl/fi/vezn3809mk6br6jb2xari/ML-P2-DataSet.csv?rlkey=yweu1fhtvisqhxm78s4ofpxed&dl=1\r\n",
      "Resolving www.dropbox.com (www.dropbox.com)... 162.125.1.18, 2620:100:6016:18::a27d:112\r\n",
      "Connecting to www.dropbox.com (www.dropbox.com)|162.125.1.18|:443... connected.\r\n",
      "HTTP request sent, awaiting response... 302 Found\r\n",
      "Location: https://uc0bfb34ed8af04ad1837cbba8d4.dl.dropboxusercontent.com/cd/0/inline/CIqw0rbKkrLdFwOz-dIUDSdNLfatEfNuDRZRaVke9d0i1_cbMQAic14sZ-Aok9JM7LNpzZSuILjjWjxERJrycpbzS-rnVbGKGOYYUND0qZJfWdtNNy9Gv7VV3_os19_EIdMPM9BxLkhiMDs3w3-dhpMg/file?dl=1# [following]\r\n",
      "--2023-12-02 19:01:45--  https://uc0bfb34ed8af04ad1837cbba8d4.dl.dropboxusercontent.com/cd/0/inline/CIqw0rbKkrLdFwOz-dIUDSdNLfatEfNuDRZRaVke9d0i1_cbMQAic14sZ-Aok9JM7LNpzZSuILjjWjxERJrycpbzS-rnVbGKGOYYUND0qZJfWdtNNy9Gv7VV3_os19_EIdMPM9BxLkhiMDs3w3-dhpMg/file?dl=1\r\n",
      "Resolving uc0bfb34ed8af04ad1837cbba8d4.dl.dropboxusercontent.com (uc0bfb34ed8af04ad1837cbba8d4.dl.dropboxusercontent.com)... 162.125.1.15, 2620:100:6016:15::a27d:10f\r\n",
      "Connecting to uc0bfb34ed8af04ad1837cbba8d4.dl.dropboxusercontent.com (uc0bfb34ed8af04ad1837cbba8d4.dl.dropboxusercontent.com)|162.125.1.15|:443... connected.\r\n",
      "HTTP request sent, awaiting response... 200 OK\r\n",
      "Length: 619991 (605K) [application/binary]\r\n",
      "Saving to: ‘dataset.csv’\r\n",
      "\r\n",
      "dataset.csv         100%[===================>] 605.46K  --.-KB/s    in 0.03s   \r\n",
      "\r\n",
      "2023-12-02 19:01:45 (17.2 MB/s) - ‘dataset.csv’ saved [619991/619991]\r\n",
      "\r\n"
     ]
    }
   ],
   "source": [
    "!wget -O dataset.csv \"https://www.dropbox.com/scl/fi/vezn3809mk6br6jb2xari/ML-P2-DataSet.csv?rlkey=yweu1fhtvisqhxm78s4ofpxed&dl=1\""
   ]
  },
  {
   "cell_type": "markdown",
   "id": "f152abc6",
   "metadata": {
    "id": "RIIiFseLa3lF",
    "papermill": {
     "duration": 0.013778,
     "end_time": "2023-12-02T19:01:45.939469",
     "exception": false,
     "start_time": "2023-12-02T19:01:45.925691",
     "status": "completed"
    },
    "tags": []
   },
   "source": [
    "# Phase 1: Explore"
   ]
  },
  {
   "cell_type": "markdown",
   "id": "9de1244c",
   "metadata": {
    "id": "ZhxTfOB5peCj",
    "papermill": {
     "duration": 0.012502,
     "end_time": "2023-12-02T19:01:45.964639",
     "exception": false,
     "start_time": "2023-12-02T19:01:45.952137",
     "status": "completed"
    },
    "tags": []
   },
   "source": [
    "## Sec 1: Load and Explore the given dataset "
   ]
  },
  {
   "cell_type": "markdown",
   "id": "20fbfae0",
   "metadata": {
    "id": "Usio0HXKof-5",
    "papermill": {
     "duration": 0.01264,
     "end_time": "2023-12-02T19:01:45.990372",
     "exception": false,
     "start_time": "2023-12-02T19:01:45.977732",
     "status": "completed"
    },
    "tags": []
   },
   "source": [
    "Load the dataset. Look at the head of dataset.\n",
    "\n",
    "\n"
   ]
  },
  {
   "cell_type": "code",
   "execution_count": 5,
   "id": "9b3115ed",
   "metadata": {
    "execution": {
     "iopub.execute_input": "2023-12-02T19:01:46.065859Z",
     "iopub.status.busy": "2023-12-02T19:01:46.065536Z",
     "iopub.status.idle": "2023-12-02T19:01:46.113025Z",
     "shell.execute_reply": "2023-12-02T19:01:46.111592Z"
    },
    "id": "V8RdrWrkkgQj",
    "papermill": {
     "duration": 0.066445,
     "end_time": "2023-12-02T19:01:46.118298",
     "exception": false,
     "start_time": "2023-12-02T19:01:46.051853",
     "status": "completed"
    },
    "tags": []
   },
   "outputs": [
    {
     "data": {
      "text/html": [
       "<div>\n",
       "<style scoped>\n",
       "    .dataframe tbody tr th:only-of-type {\n",
       "        vertical-align: middle;\n",
       "    }\n",
       "\n",
       "    .dataframe tbody tr th {\n",
       "        vertical-align: top;\n",
       "    }\n",
       "\n",
       "    .dataframe thead th {\n",
       "        text-align: right;\n",
       "    }\n",
       "</style>\n",
       "<table border=\"1\" class=\"dataframe\">\n",
       "  <thead>\n",
       "    <tr style=\"text-align: right;\">\n",
       "      <th></th>\n",
       "      <th>Text</th>\n",
       "      <th>Feeling</th>\n",
       "    </tr>\n",
       "  </thead>\n",
       "  <tbody>\n",
       "    <tr>\n",
       "      <th>0</th>\n",
       "      <td>i seriously hate one subject to death but now ...</td>\n",
       "      <td>fear</td>\n",
       "    </tr>\n",
       "    <tr>\n",
       "      <th>1</th>\n",
       "      <td>im so full of life i feel appalled</td>\n",
       "      <td>anger</td>\n",
       "    </tr>\n",
       "    <tr>\n",
       "      <th>2</th>\n",
       "      <td>i sit here to write i start to dig out my feel...</td>\n",
       "      <td>fear</td>\n",
       "    </tr>\n",
       "    <tr>\n",
       "      <th>3</th>\n",
       "      <td>ive been really angry with r and i feel like a...</td>\n",
       "      <td>joy</td>\n",
       "    </tr>\n",
       "    <tr>\n",
       "      <th>4</th>\n",
       "      <td>i feel suspicious if there is no one outside l...</td>\n",
       "      <td>fear</td>\n",
       "    </tr>\n",
       "    <tr>\n",
       "      <th>5</th>\n",
       "      <td>i feel jealous becasue i wanted that kind of l...</td>\n",
       "      <td>anger</td>\n",
       "    </tr>\n",
       "    <tr>\n",
       "      <th>6</th>\n",
       "      <td>when a friend of mine keeps telling me morbid ...</td>\n",
       "      <td>anger</td>\n",
       "    </tr>\n",
       "    <tr>\n",
       "      <th>7</th>\n",
       "      <td>i finally fell asleep feeling angry useless an...</td>\n",
       "      <td>anger</td>\n",
       "    </tr>\n",
       "    <tr>\n",
       "      <th>8</th>\n",
       "      <td>i feel a bit annoyed and antsy in a good way</td>\n",
       "      <td>anger</td>\n",
       "    </tr>\n",
       "    <tr>\n",
       "      <th>9</th>\n",
       "      <td>i feel like i ve regained another vital part o...</td>\n",
       "      <td>joy</td>\n",
       "    </tr>\n",
       "  </tbody>\n",
       "</table>\n",
       "</div>"
      ],
      "text/plain": [
       "                                                Text Feeling\n",
       "0  i seriously hate one subject to death but now ...    fear\n",
       "1                 im so full of life i feel appalled   anger\n",
       "2  i sit here to write i start to dig out my feel...    fear\n",
       "3  ive been really angry with r and i feel like a...     joy\n",
       "4  i feel suspicious if there is no one outside l...    fear\n",
       "5  i feel jealous becasue i wanted that kind of l...   anger\n",
       "6  when a friend of mine keeps telling me morbid ...   anger\n",
       "7  i finally fell asleep feeling angry useless an...   anger\n",
       "8       i feel a bit annoyed and antsy in a good way   anger\n",
       "9  i feel like i ve regained another vital part o...     joy"
      ]
     },
     "execution_count": 5,
     "metadata": {},
     "output_type": "execute_result"
    }
   ],
   "source": [
    "ds = pd.read_csv('/kaggle/working/dataset.csv')\n",
    "ds.head(10)\n",
    "\n"
   ]
  },
  {
   "cell_type": "code",
   "execution_count": 6,
   "id": "c27c68ad",
   "metadata": {
    "execution": {
     "iopub.execute_input": "2023-12-02T19:01:46.150351Z",
     "iopub.status.busy": "2023-12-02T19:01:46.149841Z",
     "iopub.status.idle": "2023-12-02T19:01:46.154908Z",
     "shell.execute_reply": "2023-12-02T19:01:46.154184Z"
    },
    "papermill": {
     "duration": 0.023118,
     "end_time": "2023-12-02T19:01:46.157679",
     "exception": false,
     "start_time": "2023-12-02T19:01:46.134561",
     "status": "completed"
    },
    "tags": []
   },
   "outputs": [
    {
     "name": "stdout",
     "output_type": "stream",
     "text": [
      "Number of Rows : 5937\n"
     ]
    }
   ],
   "source": [
    "print(\"Number of Rows : \" + str(len(ds)))"
   ]
  },
  {
   "cell_type": "markdown",
   "id": "9822220e",
   "metadata": {
    "id": "w0rYcT-wqFpt",
    "papermill": {
     "duration": 0.011997,
     "end_time": "2023-12-02T19:01:46.182429",
     "exception": false,
     "start_time": "2023-12-02T19:01:46.170432",
     "status": "completed"
    },
    "tags": []
   },
   "source": [
    "Handle missing values "
   ]
  },
  {
   "cell_type": "code",
   "execution_count": 7,
   "id": "e5c0b82b",
   "metadata": {
    "execution": {
     "iopub.execute_input": "2023-12-02T19:01:46.214043Z",
     "iopub.status.busy": "2023-12-02T19:01:46.213670Z",
     "iopub.status.idle": "2023-12-02T19:01:46.220602Z",
     "shell.execute_reply": "2023-12-02T19:01:46.219709Z"
    },
    "id": "qjfsDc35qMQn",
    "papermill": {
     "duration": 0.02506,
     "end_time": "2023-12-02T19:01:46.222829",
     "exception": false,
     "start_time": "2023-12-02T19:01:46.197769",
     "status": "completed"
    },
    "tags": []
   },
   "outputs": [
    {
     "name": "stdout",
     "output_type": "stream",
     "text": [
      "Number of missing values : 0\n"
     ]
    }
   ],
   "source": [
    "print(\"Number of missing values : \" + str(ds.isnull().sum().sum()))"
   ]
  },
  {
   "cell_type": "markdown",
   "id": "ff60f210",
   "metadata": {
    "id": "Cbr-RfEypELP",
    "papermill": {
     "duration": 0.013444,
     "end_time": "2023-12-02T19:01:46.250241",
     "exception": false,
     "start_time": "2023-12-02T19:01:46.236797",
     "status": "completed"
    },
    "tags": []
   },
   "source": [
    "Identify the unique feeling values and for each of them, print their count in the dataset. "
   ]
  },
  {
   "cell_type": "code",
   "execution_count": 8,
   "id": "fafba3f0",
   "metadata": {
    "execution": {
     "iopub.execute_input": "2023-12-02T19:01:46.280252Z",
     "iopub.status.busy": "2023-12-02T19:01:46.279836Z",
     "iopub.status.idle": "2023-12-02T19:01:46.292953Z",
     "shell.execute_reply": "2023-12-02T19:01:46.291872Z"
    },
    "id": "1QTBJmjxqA8c",
    "papermill": {
     "duration": 0.031,
     "end_time": "2023-12-02T19:01:46.294714",
     "exception": false,
     "start_time": "2023-12-02T19:01:46.263714",
     "status": "completed"
    },
    "tags": []
   },
   "outputs": [
    {
     "name": "stdout",
     "output_type": "stream",
     "text": [
      "Feeling\n",
      "anger    2000\n",
      "joy      2000\n",
      "fear     1937\n",
      "Name: count, dtype: int64\n"
     ]
    }
   ],
   "source": [
    "print(ds['Feeling'].value_counts())"
   ]
  },
  {
   "cell_type": "markdown",
   "id": "c6668e51",
   "metadata": {
    "id": "-Kq0AdFvrFIw",
    "papermill": {
     "duration": 0.014297,
     "end_time": "2023-12-02T19:01:46.322209",
     "exception": false,
     "start_time": "2023-12-02T19:01:46.307912",
     "status": "completed"
    },
    "tags": []
   },
   "source": [
    "Plot a pie chart to display the occurance frequency of each genre that you found in the prevoius part. "
   ]
  },
  {
   "cell_type": "code",
   "execution_count": 9,
   "id": "371a2910",
   "metadata": {
    "execution": {
     "iopub.execute_input": "2023-12-02T19:01:46.349692Z",
     "iopub.status.busy": "2023-12-02T19:01:46.348611Z",
     "iopub.status.idle": "2023-12-02T19:01:46.513745Z",
     "shell.execute_reply": "2023-12-02T19:01:46.512901Z"
    },
    "id": "eAWSp6sUrgjC",
    "papermill": {
     "duration": 0.180942,
     "end_time": "2023-12-02T19:01:46.515615",
     "exception": false,
     "start_time": "2023-12-02T19:01:46.334673",
     "status": "completed"
    },
    "tags": []
   },
   "outputs": [
    {
     "data": {
      "image/png": "[encoded data removed]",
      "text/plain": [
       "<Figure size 500x500 with 1 Axes>"
      ]
     },
     "metadata": {},
     "output_type": "display_data"
    }
   ],
   "source": [
    "ds['Feeling'].value_counts().plot(kind='pie', startangle=140, figsize=(5,5), autopct='%1.2f%%')\n",
    "plt.title('Occurrence Frequency')\n",
    "plt.show()"
   ]
  },
  {
   "cell_type": "markdown",
   "id": "2fb19f5e",
   "metadata": {
    "id": "HcR5_JeIrg6I",
    "papermill": {
     "duration": 0.016555,
     "end_time": "2023-12-02T19:01:46.548948",
     "exception": false,
     "start_time": "2023-12-02T19:01:46.532393",
     "status": "completed"
    },
    "tags": []
   },
   "source": [
    "Find the mean, max and min values of the length (in chars) of the Text Column. \n"
   ]
  },
  {
   "cell_type": "code",
   "execution_count": 10,
   "id": "67b25fdc",
   "metadata": {
    "execution": {
     "iopub.execute_input": "2023-12-02T19:01:46.584657Z",
     "iopub.status.busy": "2023-12-02T19:01:46.584295Z",
     "iopub.status.idle": "2023-12-02T19:01:46.597505Z",
     "shell.execute_reply": "2023-12-02T19:01:46.596030Z"
    },
    "id": "ROoIdpPj8Y0H",
    "papermill": {
     "duration": 0.034031,
     "end_time": "2023-12-02T19:01:46.599755",
     "exception": false,
     "start_time": "2023-12-02T19:01:46.565724",
     "status": "completed"
    },
    "tags": []
   },
   "outputs": [
    {
     "name": "stdout",
     "output_type": "stream",
     "text": [
      "mean : 97.42597271349166\n",
      "max : 298\n",
      "min : 9\n"
     ]
    }
   ],
   "source": [
    "texts = ds['Text']\n",
    "\n",
    "t_mean = texts.str.len().mean()\n",
    "t_max = texts.str.len().max()\n",
    "t_min = texts.str.len().min()\n",
    "\n",
    "print(\"mean : \" + str(t_mean))\n",
    "print(\"max : \" + str(t_max))\n",
    "print(\"min : \" + str(t_min))"
   ]
  },
  {
   "cell_type": "markdown",
   "id": "492f283f",
   "metadata": {
    "id": "qwRicPs98nN9",
    "papermill": {
     "duration": 0.012682,
     "end_time": "2023-12-02T19:01:46.625701",
     "exception": false,
     "start_time": "2023-12-02T19:01:46.613019",
     "status": "completed"
    },
    "tags": []
   },
   "source": [
    "# Phase 2: Preprocessing"
   ]
  },
  {
   "cell_type": "markdown",
   "id": "56c87ad4",
   "metadata": {
    "id": "tzkvX5IewOco",
    "papermill": {
     "duration": 0.013294,
     "end_time": "2023-12-02T19:01:46.653386",
     "exception": false,
     "start_time": "2023-12-02T19:01:46.640092",
     "status": "completed"
    },
    "tags": []
   },
   "source": [
    "## Sec 1: Preprocess the data "
   ]
  },
  {
   "cell_type": "code",
   "execution_count": 11,
   "id": "8db26fea",
   "metadata": {
    "execution": {
     "iopub.execute_input": "2023-12-02T19:01:46.684710Z",
     "iopub.status.busy": "2023-12-02T19:01:46.683817Z",
     "iopub.status.idle": "2023-12-02T19:01:46.692294Z",
     "shell.execute_reply": "2023-12-02T19:01:46.691347Z"
    },
    "id": "t3YP4gNwkL6r",
    "papermill": {
     "duration": 0.027537,
     "end_time": "2023-12-02T19:01:46.694561",
     "exception": false,
     "start_time": "2023-12-02T19:01:46.667024",
     "status": "completed"
    },
    "tags": []
   },
   "outputs": [],
   "source": [
    "class Preprocessor:\n",
    "\n",
    "    def preprocess(self, text):\n",
    "        text = self.remove_links_and_tags(text)\n",
    "        words_lst = self.word_tokenize(text)\n",
    "        words_lst = self.remove_stopwords(words_lst)\n",
    "        words_lst = self.remove_punctuations(words_lst)\n",
    "        words_lst = self.normalize(words_lst)\n",
    "        return ' '.join(words_lst)\n",
    "\n",
    "    def remove_links_and_tags(self, text):\n",
    "        text = re.sub(r'http\\S+|www.\\S+|<.*?>', '', text)\n",
    "        return text\n",
    "\n",
    "    def word_tokenize(self, text):\n",
    "        words = word_tokenize(text)\n",
    "        return [word.lower() for word in words]\n",
    "\n",
    "    def remove_stopwords(self, words):\n",
    "        stop_words = set(stopwords.words('english'))\n",
    "        return [word for word in words if word.lower() not in stop_words]\n",
    "\n",
    "    def remove_punctuations(self, words):\n",
    "        return [re.sub(r'[^a-zA-Z0-9\\s]', '', word) for word in words]\n",
    "\n",
    "    def normalize(self, words):\n",
    "        lemma = WordNetLemmatizer()\n",
    "        return [lemma.lemmatize(word) for word in words]"
   ]
  },
  {
   "cell_type": "markdown",
   "id": "131ff693",
   "metadata": {
    "id": "nMOXi03Y8s_9",
    "papermill": {
     "duration": 0.012903,
     "end_time": "2023-12-02T19:01:46.721575",
     "exception": false,
     "start_time": "2023-12-02T19:01:46.708672",
     "status": "completed"
    },
    "tags": []
   },
   "source": [
    "Inspect the dataset for any empty cells or duplicate rows, and if they are present, remove the corresponding rows from the dataset. "
   ]
  },
  {
   "cell_type": "code",
   "execution_count": 12,
   "id": "484c3134",
   "metadata": {
    "execution": {
     "iopub.execute_input": "2023-12-02T19:01:46.748811Z",
     "iopub.status.busy": "2023-12-02T19:01:46.748488Z",
     "iopub.status.idle": "2023-12-02T19:01:46.762777Z",
     "shell.execute_reply": "2023-12-02T19:01:46.760864Z"
    },
    "id": "co0umvGj2mpn",
    "papermill": {
     "duration": 0.030455,
     "end_time": "2023-12-02T19:01:46.764782",
     "exception": false,
     "start_time": "2023-12-02T19:01:46.734327",
     "status": "completed"
    },
    "tags": []
   },
   "outputs": [
    {
     "name": "stdout",
     "output_type": "stream",
     "text": [
      "Empty DataFrame\n",
      "Columns: [Text, Feeling]\n",
      "Index: []\n"
     ]
    }
   ],
   "source": [
    "empty_cells = ds[ds.isnull().any(axis=1)]\n",
    "print(empty_cells)\n",
    "ds = ds.dropna()"
   ]
  },
  {
   "cell_type": "code",
   "execution_count": 13,
   "id": "c97d48ea",
   "metadata": {
    "execution": {
     "iopub.execute_input": "2023-12-02T19:01:46.795487Z",
     "iopub.status.busy": "2023-12-02T19:01:46.794723Z",
     "iopub.status.idle": "2023-12-02T19:01:46.814520Z",
     "shell.execute_reply": "2023-12-02T19:01:46.812662Z"
    },
    "papermill": {
     "duration": 0.037937,
     "end_time": "2023-12-02T19:01:46.816898",
     "exception": false,
     "start_time": "2023-12-02T19:01:46.778961",
     "status": "completed"
    },
    "tags": []
   },
   "outputs": [
    {
     "name": "stdout",
     "output_type": "stream",
     "text": [
      "Empty DataFrame\n",
      "Columns: [Text, Feeling]\n",
      "Index: []\n"
     ]
    }
   ],
   "source": [
    "duplicate_rows = ds[ds.duplicated()]\n",
    "print(duplicate_rows)\n",
    "ds = ds.drop_duplicates()"
   ]
  },
  {
   "cell_type": "markdown",
   "id": "ca83329f",
   "metadata": {
    "id": "LHR4w6dB9dVt",
    "papermill": {
     "duration": 0.01326,
     "end_time": "2023-12-02T19:01:46.843780",
     "exception": false,
     "start_time": "2023-12-02T19:01:46.830520",
     "status": "completed"
    },
    "tags": []
   },
   "source": [
    "Clean the Texts by removing the special characters and punctations."
   ]
  },
  {
   "cell_type": "code",
   "execution_count": 14,
   "id": "3ad6d604",
   "metadata": {
    "execution": {
     "iopub.execute_input": "2023-12-02T19:01:46.875389Z",
     "iopub.status.busy": "2023-12-02T19:01:46.874288Z",
     "iopub.status.idle": "2023-12-02T19:01:47.705640Z",
     "shell.execute_reply": "2023-12-02T19:01:47.704153Z"
    },
    "id": "tK299IssK0_C",
    "papermill": {
     "duration": 0.849912,
     "end_time": "2023-12-02T19:01:47.708349",
     "exception": false,
     "start_time": "2023-12-02T19:01:46.858437",
     "status": "completed"
    },
    "tags": []
   },
   "outputs": [
    {
     "data": {
      "text/html": [
       "<div>\n",
       "<style scoped>\n",
       "    .dataframe tbody tr th:only-of-type {\n",
       "        vertical-align: middle;\n",
       "    }\n",
       "\n",
       "    .dataframe tbody tr th {\n",
       "        vertical-align: top;\n",
       "    }\n",
       "\n",
       "    .dataframe thead th {\n",
       "        text-align: right;\n",
       "    }\n",
       "</style>\n",
       "<table border=\"1\" class=\"dataframe\">\n",
       "  <thead>\n",
       "    <tr style=\"text-align: right;\">\n",
       "      <th></th>\n",
       "      <th>Text</th>\n",
       "      <th>Feeling</th>\n",
       "    </tr>\n",
       "  </thead>\n",
       "  <tbody>\n",
       "    <tr>\n",
       "      <th>0</th>\n",
       "      <td>i seriously hate one subject to death but now ...</td>\n",
       "      <td>fear</td>\n",
       "    </tr>\n",
       "    <tr>\n",
       "      <th>1</th>\n",
       "      <td>im so full of life i feel appalled</td>\n",
       "      <td>anger</td>\n",
       "    </tr>\n",
       "    <tr>\n",
       "      <th>2</th>\n",
       "      <td>i sit here to write i start to dig out my feel...</td>\n",
       "      <td>fear</td>\n",
       "    </tr>\n",
       "    <tr>\n",
       "      <th>3</th>\n",
       "      <td>ive been really angry with r and i feel like a...</td>\n",
       "      <td>joy</td>\n",
       "    </tr>\n",
       "    <tr>\n",
       "      <th>4</th>\n",
       "      <td>i feel suspicious if there is no one outside l...</td>\n",
       "      <td>fear</td>\n",
       "    </tr>\n",
       "    <tr>\n",
       "      <th>5</th>\n",
       "      <td>i feel jealous becasue i wanted that kind of l...</td>\n",
       "      <td>anger</td>\n",
       "    </tr>\n",
       "    <tr>\n",
       "      <th>6</th>\n",
       "      <td>when a friend of mine keeps telling me morbid ...</td>\n",
       "      <td>anger</td>\n",
       "    </tr>\n",
       "    <tr>\n",
       "      <th>7</th>\n",
       "      <td>i finally fell asleep feeling angry useless an...</td>\n",
       "      <td>anger</td>\n",
       "    </tr>\n",
       "    <tr>\n",
       "      <th>8</th>\n",
       "      <td>i feel a bit annoyed and antsy in a good way</td>\n",
       "      <td>anger</td>\n",
       "    </tr>\n",
       "    <tr>\n",
       "      <th>9</th>\n",
       "      <td>i feel like i ve regained another vital part o...</td>\n",
       "      <td>joy</td>\n",
       "    </tr>\n",
       "  </tbody>\n",
       "</table>\n",
       "</div>"
      ],
      "text/plain": [
       "                                                Text Feeling\n",
       "0  i seriously hate one subject to death but now ...    fear\n",
       "1                 im so full of life i feel appalled   anger\n",
       "2  i sit here to write i start to dig out my feel...    fear\n",
       "3  ive been really angry with r and i feel like a...     joy\n",
       "4  i feel suspicious if there is no one outside l...    fear\n",
       "5  i feel jealous becasue i wanted that kind of l...   anger\n",
       "6  when a friend of mine keeps telling me morbid ...   anger\n",
       "7  i finally fell asleep feeling angry useless an...   anger\n",
       "8       i feel a bit annoyed and antsy in a good way   anger\n",
       "9  i feel like i ve regained another vital part o...     joy"
      ]
     },
     "execution_count": 14,
     "metadata": {},
     "output_type": "execute_result"
    }
   ],
   "source": [
    "my_pr = Preprocessor()\n",
    "\n",
    "texts_tokenize = texts.apply(my_pr.word_tokenize)\n",
    "cleaned_texts = texts_tokenize.apply(my_pr.remove_punctuations)\n",
    "ds['Text'] = [' '.join(words) for words in cleaned_texts]\n",
    "\n",
    "ds.head(10)"
   ]
  },
  {
   "cell_type": "markdown",
   "id": "fa8761d3",
   "metadata": {
    "id": "r0LHBi9zK1Ro",
    "papermill": {
     "duration": 0.013476,
     "end_time": "2023-12-02T19:01:47.735988",
     "exception": false,
     "start_time": "2023-12-02T19:01:47.722512",
     "status": "completed"
    },
    "tags": []
   },
   "source": [
    "Remove the stop-words from the synopsis texts. Stop-words are those that have a high frequency in the language but don't have much information like 'the', 'and', 'to', etc."
   ]
  },
  {
   "cell_type": "code",
   "execution_count": 15,
   "id": "9450bb45",
   "metadata": {
    "execution": {
     "iopub.execute_input": "2023-12-02T19:01:47.765655Z",
     "iopub.status.busy": "2023-12-02T19:01:47.765134Z",
     "iopub.status.idle": "2023-12-02T19:01:49.232092Z",
     "shell.execute_reply": "2023-12-02T19:01:49.229962Z"
    },
    "id": "rZV4H3vPNJhH",
    "papermill": {
     "duration": 1.486201,
     "end_time": "2023-12-02T19:01:49.235990",
     "exception": false,
     "start_time": "2023-12-02T19:01:47.749789",
     "status": "completed"
    },
    "tags": []
   },
   "outputs": [
    {
     "data": {
      "text/html": [
       "<div>\n",
       "<style scoped>\n",
       "    .dataframe tbody tr th:only-of-type {\n",
       "        vertical-align: middle;\n",
       "    }\n",
       "\n",
       "    .dataframe tbody tr th {\n",
       "        vertical-align: top;\n",
       "    }\n",
       "\n",
       "    .dataframe thead th {\n",
       "        text-align: right;\n",
       "    }\n",
       "</style>\n",
       "<table border=\"1\" class=\"dataframe\">\n",
       "  <thead>\n",
       "    <tr style=\"text-align: right;\">\n",
       "      <th></th>\n",
       "      <th>Text</th>\n",
       "      <th>Feeling</th>\n",
       "    </tr>\n",
       "  </thead>\n",
       "  <tbody>\n",
       "    <tr>\n",
       "      <th>0</th>\n",
       "      <td>seriously hate one subject death feel reluctan...</td>\n",
       "      <td>fear</td>\n",
       "    </tr>\n",
       "    <tr>\n",
       "      <th>1</th>\n",
       "      <td>im full life feel appalled</td>\n",
       "      <td>anger</td>\n",
       "    </tr>\n",
       "    <tr>\n",
       "      <th>2</th>\n",
       "      <td>sit write start dig feelings think afraid acce...</td>\n",
       "      <td>fear</td>\n",
       "    </tr>\n",
       "    <tr>\n",
       "      <th>3</th>\n",
       "      <td>ive really angry r feel like idiot trusting fi...</td>\n",
       "      <td>joy</td>\n",
       "    </tr>\n",
       "    <tr>\n",
       "      <th>4</th>\n",
       "      <td>feel suspicious one outside like rapture happe...</td>\n",
       "      <td>fear</td>\n",
       "    </tr>\n",
       "    <tr>\n",
       "      <th>5</th>\n",
       "      <td>feel jealous becasue wanted kind love true con...</td>\n",
       "      <td>anger</td>\n",
       "    </tr>\n",
       "    <tr>\n",
       "      <th>6</th>\n",
       "      <td>friend mine keeps telling morbid things happen...</td>\n",
       "      <td>anger</td>\n",
       "    </tr>\n",
       "    <tr>\n",
       "      <th>7</th>\n",
       "      <td>finally fell asleep feeling angry useless stil...</td>\n",
       "      <td>anger</td>\n",
       "    </tr>\n",
       "    <tr>\n",
       "      <th>8</th>\n",
       "      <td>feel bit annoyed antsy good way</td>\n",
       "      <td>anger</td>\n",
       "    </tr>\n",
       "    <tr>\n",
       "      <th>9</th>\n",
       "      <td>feel like regained another vital part life living</td>\n",
       "      <td>joy</td>\n",
       "    </tr>\n",
       "  </tbody>\n",
       "</table>\n",
       "</div>"
      ],
      "text/plain": [
       "                                                Text Feeling\n",
       "0  seriously hate one subject death feel reluctan...    fear\n",
       "1                         im full life feel appalled   anger\n",
       "2  sit write start dig feelings think afraid acce...    fear\n",
       "3  ive really angry r feel like idiot trusting fi...     joy\n",
       "4  feel suspicious one outside like rapture happe...    fear\n",
       "5  feel jealous becasue wanted kind love true con...   anger\n",
       "6  friend mine keeps telling morbid things happen...   anger\n",
       "7  finally fell asleep feeling angry useless stil...   anger\n",
       "8                    feel bit annoyed antsy good way   anger\n",
       "9  feel like regained another vital part life living     joy"
      ]
     },
     "execution_count": 15,
     "metadata": {},
     "output_type": "execute_result"
    }
   ],
   "source": [
    "texts_tokenize = texts.apply(my_pr.word_tokenize)\n",
    "removed_sw_texts = texts_tokenize.apply(my_pr.remove_stopwords)\n",
    "ds['Text'] = [' '.join(words) for words in removed_sw_texts]\n",
    "\n",
    "ds.head(10)"
   ]
  },
  {
   "cell_type": "markdown",
   "id": "0d11a95e",
   "metadata": {
    "id": "uJICEKnjMWYY",
    "papermill": {
     "duration": 0.014832,
     "end_time": "2023-12-02T19:01:49.266110",
     "exception": false,
     "start_time": "2023-12-02T19:01:49.251278",
     "status": "completed"
    },
    "tags": []
   },
   "source": [
    "Tokenize the text and convert all characters to their lowercased version "
   ]
  },
  {
   "cell_type": "code",
   "execution_count": 16,
   "id": "33fe1c2e",
   "metadata": {
    "execution": {
     "iopub.execute_input": "2023-12-02T19:01:49.296534Z",
     "iopub.status.busy": "2023-12-02T19:01:49.296066Z",
     "iopub.status.idle": "2023-12-02T19:01:50.015129Z",
     "shell.execute_reply": "2023-12-02T19:01:50.013805Z"
    },
    "id": "_9hvQsm2u_lZ",
    "papermill": {
     "duration": 0.737252,
     "end_time": "2023-12-02T19:01:50.017644",
     "exception": false,
     "start_time": "2023-12-02T19:01:49.280392",
     "status": "completed"
    },
    "tags": []
   },
   "outputs": [
    {
     "data": {
      "text/html": [
       "<div>\n",
       "<style scoped>\n",
       "    .dataframe tbody tr th:only-of-type {\n",
       "        vertical-align: middle;\n",
       "    }\n",
       "\n",
       "    .dataframe tbody tr th {\n",
       "        vertical-align: top;\n",
       "    }\n",
       "\n",
       "    .dataframe thead th {\n",
       "        text-align: right;\n",
       "    }\n",
       "</style>\n",
       "<table border=\"1\" class=\"dataframe\">\n",
       "  <thead>\n",
       "    <tr style=\"text-align: right;\">\n",
       "      <th></th>\n",
       "      <th>Text</th>\n",
       "      <th>Feeling</th>\n",
       "    </tr>\n",
       "  </thead>\n",
       "  <tbody>\n",
       "    <tr>\n",
       "      <th>0</th>\n",
       "      <td>i seriously hate one subject to death but now ...</td>\n",
       "      <td>fear</td>\n",
       "    </tr>\n",
       "    <tr>\n",
       "      <th>1</th>\n",
       "      <td>im so full of life i feel appalled</td>\n",
       "      <td>anger</td>\n",
       "    </tr>\n",
       "    <tr>\n",
       "      <th>2</th>\n",
       "      <td>i sit here to write i start to dig out my feel...</td>\n",
       "      <td>fear</td>\n",
       "    </tr>\n",
       "    <tr>\n",
       "      <th>3</th>\n",
       "      <td>ive been really angry with r and i feel like a...</td>\n",
       "      <td>joy</td>\n",
       "    </tr>\n",
       "    <tr>\n",
       "      <th>4</th>\n",
       "      <td>i feel suspicious if there is no one outside l...</td>\n",
       "      <td>fear</td>\n",
       "    </tr>\n",
       "    <tr>\n",
       "      <th>5</th>\n",
       "      <td>i feel jealous becasue i wanted that kind of l...</td>\n",
       "      <td>anger</td>\n",
       "    </tr>\n",
       "    <tr>\n",
       "      <th>6</th>\n",
       "      <td>when a friend of mine keeps telling me morbid ...</td>\n",
       "      <td>anger</td>\n",
       "    </tr>\n",
       "    <tr>\n",
       "      <th>7</th>\n",
       "      <td>i finally fell asleep feeling angry useless an...</td>\n",
       "      <td>anger</td>\n",
       "    </tr>\n",
       "    <tr>\n",
       "      <th>8</th>\n",
       "      <td>i feel a bit annoyed and antsy in a good way</td>\n",
       "      <td>anger</td>\n",
       "    </tr>\n",
       "    <tr>\n",
       "      <th>9</th>\n",
       "      <td>i feel like i ve regained another vital part o...</td>\n",
       "      <td>joy</td>\n",
       "    </tr>\n",
       "  </tbody>\n",
       "</table>\n",
       "</div>"
      ],
      "text/plain": [
       "                                                Text Feeling\n",
       "0  i seriously hate one subject to death but now ...    fear\n",
       "1                 im so full of life i feel appalled   anger\n",
       "2  i sit here to write i start to dig out my feel...    fear\n",
       "3  ive been really angry with r and i feel like a...     joy\n",
       "4  i feel suspicious if there is no one outside l...    fear\n",
       "5  i feel jealous becasue i wanted that kind of l...   anger\n",
       "6  when a friend of mine keeps telling me morbid ...   anger\n",
       "7  i finally fell asleep feeling angry useless an...   anger\n",
       "8       i feel a bit annoyed and antsy in a good way   anger\n",
       "9  i feel like i ve regained another vital part o...     joy"
      ]
     },
     "execution_count": 16,
     "metadata": {},
     "output_type": "execute_result"
    }
   ],
   "source": [
    "texts_tokenize = texts.apply(my_pr.word_tokenize)\n",
    "ds['Text'] = [' '.join(words) for words in texts_tokenize]\n",
    "\n",
    "ds.head(10)"
   ]
  },
  {
   "cell_type": "markdown",
   "id": "855f976f",
   "metadata": {
    "id": "MGSci8O5ueGy",
    "papermill": {
     "duration": 0.01394,
     "end_time": "2023-12-02T19:01:50.045770",
     "exception": false,
     "start_time": "2023-12-02T19:01:50.031830",
     "status": "completed"
    },
    "tags": []
   },
   "source": [
    "# Phase 3: Training"
   ]
  },
  {
   "cell_type": "markdown",
   "id": "48cdbcd1",
   "metadata": {
    "id": "nW-PD4yKVcOZ",
    "papermill": {
     "duration": 0.013539,
     "end_time": "2023-12-02T19:01:50.073166",
     "exception": false,
     "start_time": "2023-12-02T19:01:50.059627",
     "status": "completed"
    },
    "tags": []
   },
   "source": [
    "## Sec 1: Preparing the training feed "
   ]
  },
  {
   "cell_type": "markdown",
   "id": "a6fb3704",
   "metadata": {
    "id": "ExOLUFqkV6l3",
    "papermill": {
     "duration": 0.01532,
     "end_time": "2023-12-02T19:01:50.102165",
     "exception": false,
     "start_time": "2023-12-02T19:01:50.086845",
     "status": "completed"
    },
    "tags": []
   },
   "source": [
    "Extract the \"X\" and \"y\" numpy array from columns corresponding to text and feelings."
   ]
  },
  {
   "cell_type": "code",
   "execution_count": 17,
   "id": "6fc02a7b",
   "metadata": {
    "execution": {
     "iopub.execute_input": "2023-12-02T19:01:50.131185Z",
     "iopub.status.busy": "2023-12-02T19:01:50.130303Z",
     "iopub.status.idle": "2023-12-02T19:01:50.135637Z",
     "shell.execute_reply": "2023-12-02T19:01:50.134585Z"
    },
    "id": "QxZuaLXoXW3f",
    "papermill": {
     "duration": 0.021626,
     "end_time": "2023-12-02T19:01:50.137373",
     "exception": false,
     "start_time": "2023-12-02T19:01:50.115747",
     "status": "completed"
    },
    "tags": []
   },
   "outputs": [],
   "source": [
    "X = ds['Text'].values  \n",
    "Y = ds['Feeling'].values "
   ]
  },
  {
   "cell_type": "markdown",
   "id": "d4aeb838",
   "metadata": {
    "id": "HTXGdu5pYqCQ",
    "papermill": {
     "duration": 0.013634,
     "end_time": "2023-12-02T19:01:50.165380",
     "exception": false,
     "start_time": "2023-12-02T19:01:50.151746",
     "status": "completed"
    },
    "tags": []
   },
   "source": [
    "Split the dataset into two parts such that the training set (denoted as `x_train` and ‍`y_train`) contains 80% of the samples. "
   ]
  },
  {
   "cell_type": "code",
   "execution_count": 18,
   "id": "4827fe88",
   "metadata": {
    "execution": {
     "iopub.execute_input": "2023-12-02T19:01:50.194166Z",
     "iopub.status.busy": "2023-12-02T19:01:50.193846Z",
     "iopub.status.idle": "2023-12-02T19:01:50.198890Z",
     "shell.execute_reply": "2023-12-02T19:01:50.197958Z"
    },
    "id": "LXUtIDtFMnrv",
    "papermill": {
     "duration": 0.021947,
     "end_time": "2023-12-02T19:01:50.200934",
     "exception": false,
     "start_time": "2023-12-02T19:01:50.178987",
     "status": "completed"
    },
    "tags": []
   },
   "outputs": [],
   "source": [
    "X_train, X_test, Y_train, Y_test = train_test_split(X, Y, test_size=0.2, random_state=43)"
   ]
  },
  {
   "cell_type": "markdown",
   "id": "7f681d8c",
   "metadata": {
    "id": "4gmg4zF7XX-0",
    "papermill": {
     "duration": 0.013762,
     "end_time": "2023-12-02T19:01:50.229342",
     "exception": false,
     "start_time": "2023-12-02T19:01:50.215580",
     "status": "completed"
    },
    "tags": []
   },
   "source": [
    "Extract the text embeddings (feature vectors) for all the texts in the dataset.\n",
    "\n",
    "For this task you can use **tf-idf** or **count vectorizer**. Search about them!"
   ]
  },
  {
   "cell_type": "code",
   "execution_count": 19,
   "id": "f3a0883b",
   "metadata": {
    "execution": {
     "iopub.execute_input": "2023-12-02T19:01:50.259210Z",
     "iopub.status.busy": "2023-12-02T19:01:50.258621Z",
     "iopub.status.idle": "2023-12-02T19:01:50.362431Z",
     "shell.execute_reply": "2023-12-02T19:01:50.361404Z"
    },
    "id": "tBIDgJQGZ5Q-",
    "papermill": {
     "duration": 0.121562,
     "end_time": "2023-12-02T19:01:50.364824",
     "exception": false,
     "start_time": "2023-12-02T19:01:50.243262",
     "status": "completed"
    },
    "tags": []
   },
   "outputs": [],
   "source": [
    "from sklearn.feature_extraction.text import CountVectorizer\n",
    "\n",
    "count_vectorizer = CountVectorizer()\n",
    "X_train_counts = count_vectorizer.fit_transform(X_train)\n",
    "X_test_counts = count_vectorizer.transform(X_test)"
   ]
  },
  {
   "cell_type": "markdown",
   "id": "bd3fb18d",
   "metadata": {
    "id": "P4Cb8trgcraO",
    "papermill": {
     "duration": 0.013798,
     "end_time": "2023-12-02T19:01:50.392992",
     "exception": false,
     "start_time": "2023-12-02T19:01:50.379194",
     "status": "completed"
    },
    "tags": []
   },
   "source": [
    "## Sec 2: Naive Bayes from Scratch "
   ]
  },
  {
   "cell_type": "markdown",
   "id": "e3b9a93d",
   "metadata": {
    "id": "uQRW4hGffgTD",
    "papermill": {
     "duration": 0.013571,
     "end_time": "2023-12-02T19:01:50.421173",
     "exception": false,
     "start_time": "2023-12-02T19:01:50.407602",
     "status": "completed"
    },
    "tags": []
   },
   "source": [
    "Complete this section with your code. "
   ]
  },
  {
   "cell_type": "code",
   "execution_count": 20,
   "id": "f498b8e6",
   "metadata": {
    "execution": {
     "iopub.execute_input": "2023-12-02T19:01:50.449357Z",
     "iopub.status.busy": "2023-12-02T19:01:50.449004Z",
     "iopub.status.idle": "2023-12-02T19:01:50.459618Z",
     "shell.execute_reply": "2023-12-02T19:01:50.458427Z"
    },
    "id": "Ah98uzFwfXs1",
    "papermill": {
     "duration": 0.027064,
     "end_time": "2023-12-02T19:01:50.461568",
     "exception": false,
     "start_time": "2023-12-02T19:01:50.434504",
     "status": "completed"
    },
    "tags": []
   },
   "outputs": [],
   "source": [
    "class NaiveBayesClassifier:\n",
    "    def __init__(self, alpha=1):\n",
    "        self.alpha = alpha\n",
    "        self.class_probability = defaultdict(float)\n",
    "        self.word_probability = defaultdict(lambda: defaultdict(float))\n",
    "        \n",
    "    def fit(self, X, Y):\n",
    "        \n",
    "        for tmp in np.unique(Y):\n",
    "            class_samples = len(Y[Y == tmp])\n",
    "            self.class_probability[tmp] = (class_samples + self.alpha) / (len(Y) + len(np.unique(Y)) * self.alpha)\n",
    "\n",
    "            samples_indi = np.where(Y == tmp)[0]\n",
    "            words_in_class = [X[i].split() for i in samples_indi]\n",
    "\n",
    "            expanded_words = []\n",
    "            for sublist in words_in_class:\n",
    "                for word in sublist:\n",
    "                    expanded_words.append(word)\n",
    "\n",
    "            word_counts = defaultdict(int)\n",
    "            for word in expanded_words:\n",
    "                word_counts[word] += 1\n",
    "\n",
    "            for word, count in word_counts.items():\n",
    "                self.word_probability[tmp][word] = (count + self.alpha) / (len(expanded_words) + len(word_counts) * self.alpha)\n",
    "\n",
    "    def predict(self, X):\n",
    "        prediction_lst = []\n",
    "\n",
    "        for sample in X:\n",
    "            score_lst = defaultdict(float)\n",
    "\n",
    "            for tmp, class_prob in self.class_probability.items():\n",
    "                score = np.log(class_prob)\n",
    "                words = sample.split()\n",
    "                for word in words:\n",
    "                    score += np.log(self.word_probability[tmp].get(word, 1e-9))\n",
    "\n",
    "                score_lst[tmp] = score\n",
    "\n",
    "            predicted_class = max(score_lst, key=score_lst.get)\n",
    "            prediction_lst.append(predicted_class)\n",
    "            \n",
    "        return prediction_lst"
   ]
  },
  {
   "cell_type": "markdown",
   "id": "611774d5",
   "metadata": {
    "id": "X1fAy_ElhOOw",
    "papermill": {
     "duration": 0.013899,
     "end_time": "2023-12-02T19:01:50.489968",
     "exception": false,
     "start_time": "2023-12-02T19:01:50.476069",
     "status": "completed"
    },
    "tags": []
   },
   "source": [
    "## Sec 3: Fit models to the training data "
   ]
  },
  {
   "cell_type": "markdown",
   "id": "b8ddce68",
   "metadata": {
    "id": "veTOr_lxhrGe",
    "papermill": {
     "duration": 0.014313,
     "end_time": "2023-12-02T19:01:50.518577",
     "exception": false,
     "start_time": "2023-12-02T19:01:50.504264",
     "status": "completed"
    },
    "tags": []
   },
   "source": [
    "Fit a Naive Bayes classifier to the data. (Use both regressors - sklearn & from scratch) "
   ]
  },
  {
   "cell_type": "code",
   "execution_count": 21,
   "id": "dcb2c355",
   "metadata": {
    "execution": {
     "iopub.execute_input": "2023-12-02T19:01:50.548640Z",
     "iopub.status.busy": "2023-12-02T19:01:50.548272Z",
     "iopub.status.idle": "2023-12-02T19:01:50.603275Z",
     "shell.execute_reply": "2023-12-02T19:01:50.601825Z"
    },
    "id": "2p7w47zsMdVA",
    "papermill": {
     "duration": 0.072872,
     "end_time": "2023-12-02T19:01:50.605769",
     "exception": false,
     "start_time": "2023-12-02T19:01:50.532897",
     "status": "completed"
    },
    "tags": []
   },
   "outputs": [],
   "source": [
    "my_nb = NaiveBayesClassifier()\n",
    "my_nb.fit(X_train, Y_train)"
   ]
  },
  {
   "cell_type": "code",
   "execution_count": 22,
   "id": "5b523747",
   "metadata": {
    "execution": {
     "iopub.execute_input": "2023-12-02T19:01:50.635942Z",
     "iopub.status.busy": "2023-12-02T19:01:50.635608Z",
     "iopub.status.idle": "2023-12-02T19:01:50.662143Z",
     "shell.execute_reply": "2023-12-02T19:01:50.660533Z"
    },
    "id": "UzYnUkxTIlTe",
    "papermill": {
     "duration": 0.045311,
     "end_time": "2023-12-02T19:01:50.665515",
     "exception": false,
     "start_time": "2023-12-02T19:01:50.620204",
     "status": "completed"
    },
    "tags": []
   },
   "outputs": [
    {
     "data": {
      "text/html": [
       "<style>#sk-container-id-1 {color: black;background-color: white;}#sk-container-id-1 pre{padding: 0;}#sk-container-id-1 div.sk-toggleable {background-color: white;}#sk-container-id-1 label.sk-toggleable__label {cursor: pointer;display: block;width: 100%;margin-bottom: 0;padding: 0.3em;box-sizing: border-box;text-align: center;}#sk-container-id-1 label.sk-toggleable__label-arrow:before {content: \"▸\";float: left;margin-right: 0.25em;color: #696969;}#sk-container-id-1 label.sk-toggleable__label-arrow:hover:before {color: black;}#sk-container-id-1 div.sk-estimator:hover label.sk-toggleable__label-arrow:before {color: black;}#sk-container-id-1 div.sk-toggleable__content {max-height: 0;max-width: 0;overflow: hidden;text-align: left;background-color: #f0f8ff;}#sk-container-id-1 div.sk-toggleable__content pre {margin: 0.2em;color: black;border-radius: 0.25em;background-color: #f0f8ff;}#sk-container-id-1 input.sk-toggleable__control:checked~div.sk-toggleable__content {max-height: 200px;max-width: 100%;overflow: auto;}#sk-container-id-1 input.sk-toggleable__control:checked~label.sk-toggleable__label-arrow:before {content: \"▾\";}#sk-container-id-1 div.sk-estimator input.sk-toggleable__control:checked~label.sk-toggleable__label {background-color: #d4ebff;}#sk-container-id-1 div.sk-label input.sk-toggleable__control:checked~label.sk-toggleable__label {background-color: #d4ebff;}#sk-container-id-1 input.sk-hidden--visually {border: 0;clip: rect(1px 1px 1px 1px);clip: rect(1px, 1px, 1px, 1px);height: 1px;margin: -1px;overflow: hidden;padding: 0;position: absolute;width: 1px;}#sk-container-id-1 div.sk-estimator {font-family: monospace;background-color: #f0f8ff;border: 1px dotted black;border-radius: 0.25em;box-sizing: border-box;margin-bottom: 0.5em;}#sk-container-id-1 div.sk-estimator:hover {background-color: #d4ebff;}#sk-container-id-1 div.sk-parallel-item::after {content: \"\";width: 100%;border-bottom: 1px solid gray;flex-grow: 1;}#sk-container-id-1 div.sk-label:hover label.sk-toggleable__label {background-color: #d4ebff;}#sk-container-id-1 div.sk-serial::before {content: \"\";position: absolute;border-left: 1px solid gray;box-sizing: border-box;top: 0;bottom: 0;left: 50%;z-index: 0;}#sk-container-id-1 div.sk-serial {display: flex;flex-direction: column;align-items: center;background-color: white;padding-right: 0.2em;padding-left: 0.2em;position: relative;}#sk-container-id-1 div.sk-item {position: relative;z-index: 1;}#sk-container-id-1 div.sk-parallel {display: flex;align-items: stretch;justify-content: center;background-color: white;position: relative;}#sk-container-id-1 div.sk-item::before, #sk-container-id-1 div.sk-parallel-item::before {content: \"\";position: absolute;border-left: 1px solid gray;box-sizing: border-box;top: 0;bottom: 0;left: 50%;z-index: -1;}#sk-container-id-1 div.sk-parallel-item {display: flex;flex-direction: column;z-index: 1;position: relative;background-color: white;}#sk-container-id-1 div.sk-parallel-item:first-child::after {align-self: flex-end;width: 50%;}#sk-container-id-1 div.sk-parallel-item:last-child::after {align-self: flex-start;width: 50%;}#sk-container-id-1 div.sk-parallel-item:only-child::after {width: 0;}#sk-container-id-1 div.sk-dashed-wrapped {border: 1px dashed gray;margin: 0 0.4em 0.5em 0.4em;box-sizing: border-box;padding-bottom: 0.4em;background-color: white;}#sk-container-id-1 div.sk-label label {font-family: monospace;font-weight: bold;display: inline-block;line-height: 1.2em;}#sk-container-id-1 div.sk-label-container {text-align: center;}#sk-container-id-1 div.sk-container {/* jupyter's `normalize.less` sets `[hidden] { display: none; }` but bootstrap.min.css set `[hidden] { display: none !important; }` so we also need the `!important` here to be able to override the default hidden behavior on the sphinx rendered scikit-learn.org. See: https://github.com/scikit-learn/scikit-learn/issues/21755 */display: inline-block !important;position: relative;}#sk-container-id-1 div.sk-text-repr-fallback {display: none;}</style><div id=\"sk-container-id-1\" class=\"sk-top-container\"><div class=\"sk-text-repr-fallback\"><pre>MultinomialNB()</pre><b>In a Jupyter environment, please rerun this cell to show the HTML representation or trust the notebook. <br />On GitHub, the HTML representation is unable to render, please try loading this page with nbviewer.org.</b></div><div class=\"sk-container\" hidden><div class=\"sk-item\"><div class=\"sk-estimator sk-toggleable\"><input class=\"sk-toggleable__control sk-hidden--visually\" id=\"sk-estimator-id-1\" type=\"checkbox\" checked><label for=\"sk-estimator-id-1\" class=\"sk-toggleable__label sk-toggleable__label-arrow\">MultinomialNB</label><div class=\"sk-toggleable__content\"><pre>MultinomialNB()</pre></div></div></div></div></div>"
      ],
      "text/plain": [
       "MultinomialNB()"
      ]
     },
     "execution_count": 22,
     "metadata": {},
     "output_type": "execute_result"
    }
   ],
   "source": [
    "from sklearn.naive_bayes import MultinomialNB\n",
    "\n",
    "sklearn_nb = MultinomialNB()\n",
    "sklearn_nb.fit(X_train_counts, Y_train)"
   ]
  },
  {
   "cell_type": "markdown",
   "id": "bd101b1e",
   "metadata": {
    "id": "ZidDcRTCfI0K",
    "papermill": {
     "duration": 0.013865,
     "end_time": "2023-12-02T19:01:50.695718",
     "exception": false,
     "start_time": "2023-12-02T19:01:50.681853",
     "status": "completed"
    },
    "tags": []
   },
   "source": [
    "# Phase 4: Evaluation"
   ]
  },
  {
   "cell_type": "markdown",
   "id": "74a4ee83",
   "metadata": {
    "id": "U9b0k6u7kzio",
    "papermill": {
     "duration": 0.013298,
     "end_time": "2023-12-02T19:01:50.722734",
     "exception": false,
     "start_time": "2023-12-02T19:01:50.709436",
     "status": "completed"
    },
    "tags": []
   },
   "source": [
    "## Sec 1: Evaluate both models and compare the results "
   ]
  },
  {
   "cell_type": "markdown",
   "id": "604859c0",
   "metadata": {
    "id": "kPGUaf8olFiO",
    "papermill": {
     "duration": 0.01379,
     "end_time": "2023-12-02T19:01:50.753208",
     "exception": false,
     "start_time": "2023-12-02T19:01:50.739418",
     "status": "completed"
    },
    "tags": []
   },
   "source": [
    "Predict the value of \"y\" for each \"x\" belonging to the \"testing\" set (use both models) "
   ]
  },
  {
   "cell_type": "code",
   "execution_count": 23,
   "id": "a8d2b0cd",
   "metadata": {
    "execution": {
     "iopub.execute_input": "2023-12-02T19:01:50.783234Z",
     "iopub.status.busy": "2023-12-02T19:01:50.782861Z",
     "iopub.status.idle": "2023-12-02T19:01:50.871827Z",
     "shell.execute_reply": "2023-12-02T19:01:50.869836Z"
    },
    "id": "TSckruksl45m",
    "papermill": {
     "duration": 0.10665,
     "end_time": "2023-12-02T19:01:50.874174",
     "exception": false,
     "start_time": "2023-12-02T19:01:50.767524",
     "status": "completed"
    },
    "tags": []
   },
   "outputs": [
    {
     "name": "stdout",
     "output_type": "stream",
     "text": [
      "My Prediction:\n",
      "['joy', 'fear', 'fear', 'joy', 'fear', 'anger', 'joy', 'joy', 'joy', 'joy', 'fear', 'anger', 'anger', 'anger', 'fear', 'joy', 'fear', 'fear', 'fear', 'fear', 'anger', 'fear', 'anger', 'fear', 'joy', 'anger', 'fear', 'fear', 'joy', 'anger', 'fear', 'anger', 'fear', 'fear', 'fear', 'fear', 'fear', 'anger', 'joy', 'joy', 'fear', 'joy', 'joy', 'anger', 'joy', 'fear', 'joy', 'joy', 'fear', 'joy', 'joy', 'fear', 'fear', 'fear', 'joy', 'joy', 'joy', 'anger', 'joy', 'anger', 'anger', 'fear', 'joy', 'joy', 'fear', 'joy', 'anger', 'anger', 'anger', 'fear', 'anger', 'joy', 'anger', 'joy', 'fear', 'anger', 'fear', 'joy', 'fear', 'fear', 'anger', 'joy', 'fear', 'fear', 'joy', 'anger', 'fear', 'joy', 'joy', 'joy', 'joy', 'anger', 'joy', 'anger', 'fear', 'joy', 'joy', 'joy', 'joy', 'anger', 'fear', 'fear', 'anger', 'joy', 'joy', 'anger', 'joy', 'fear', 'anger', 'anger', 'joy', 'fear', 'joy', 'joy', 'anger', 'joy', 'joy', 'anger', 'fear', 'fear', 'joy', 'fear', 'fear', 'joy', 'anger', 'anger', 'joy', 'anger', 'joy', 'joy', 'fear', 'joy', 'fear', 'joy', 'joy', 'anger', 'anger', 'fear', 'fear', 'joy', 'anger', 'anger', 'joy', 'anger', 'fear', 'anger', 'joy', 'anger', 'joy', 'anger', 'fear', 'fear', 'joy', 'joy', 'anger', 'joy', 'anger', 'anger', 'joy', 'anger', 'joy', 'fear', 'anger', 'joy', 'anger', 'joy', 'joy', 'anger', 'fear', 'joy', 'fear', 'fear', 'fear', 'fear', 'joy', 'fear', 'fear', 'joy', 'joy', 'fear', 'joy', 'anger', 'anger', 'anger', 'anger', 'anger', 'anger', 'anger', 'fear', 'anger', 'joy', 'fear', 'joy', 'joy', 'anger', 'joy', 'joy', 'fear', 'anger', 'fear', 'fear', 'joy', 'anger', 'fear', 'anger', 'anger', 'anger', 'joy', 'fear', 'fear', 'fear', 'fear', 'fear', 'anger', 'joy', 'anger', 'anger', 'anger', 'anger', 'fear', 'joy', 'anger', 'anger', 'anger', 'joy', 'joy', 'fear', 'joy', 'joy', 'anger', 'fear', 'fear', 'joy', 'fear', 'joy', 'fear', 'anger', 'fear', 'joy', 'fear', 'anger', 'joy', 'fear', 'joy', 'anger', 'fear', 'joy', 'anger', 'joy', 'fear', 'fear', 'anger', 'fear', 'joy', 'joy', 'fear', 'anger', 'joy', 'fear', 'fear', 'joy', 'joy', 'fear', 'anger', 'anger', 'fear', 'anger', 'joy', 'joy', 'anger', 'joy', 'anger', 'joy', 'anger', 'anger', 'anger', 'anger', 'joy', 'joy', 'joy', 'anger', 'joy', 'anger', 'fear', 'joy', 'anger', 'joy', 'joy', 'joy', 'joy', 'joy', 'anger', 'joy', 'fear', 'fear', 'joy', 'anger', 'joy', 'joy', 'joy', 'anger', 'fear', 'fear', 'anger', 'anger', 'joy', 'fear', 'fear', 'joy', 'fear', 'joy', 'anger', 'anger', 'joy', 'joy', 'anger', 'joy', 'fear', 'fear', 'joy', 'fear', 'fear', 'joy', 'anger', 'anger', 'fear', 'joy', 'fear', 'fear', 'joy', 'fear', 'anger', 'joy', 'fear', 'joy', 'fear', 'fear', 'fear', 'joy', 'fear', 'fear', 'fear', 'fear', 'fear', 'joy', 'anger', 'fear', 'joy', 'fear', 'joy', 'fear', 'joy', 'joy', 'fear', 'fear', 'anger', 'anger', 'anger', 'fear', 'fear', 'joy', 'fear', 'anger', 'fear', 'anger', 'anger', 'fear', 'fear', 'fear', 'anger', 'fear', 'anger', 'anger', 'fear', 'anger', 'joy', 'joy', 'fear', 'anger', 'joy', 'joy', 'joy', 'joy', 'anger', 'joy', 'anger', 'anger', 'joy', 'fear', 'joy', 'anger', 'joy', 'anger', 'fear', 'fear', 'fear', 'fear', 'anger', 'fear', 'fear', 'joy', 'fear', 'joy', 'fear', 'joy', 'anger', 'joy', 'anger', 'anger', 'anger', 'fear', 'joy', 'fear', 'anger', 'fear', 'joy', 'joy', 'joy', 'fear', 'anger', 'fear', 'fear', 'anger', 'joy', 'anger', 'fear', 'fear', 'fear', 'anger', 'anger', 'joy', 'anger', 'joy', 'anger', 'fear', 'fear', 'anger', 'fear', 'joy', 'joy', 'joy', 'fear', 'joy', 'anger', 'anger', 'anger', 'fear', 'fear', 'joy', 'fear', 'anger', 'joy', 'joy', 'anger', 'anger', 'fear', 'fear', 'anger', 'fear', 'anger', 'anger', 'fear', 'joy', 'fear', 'joy', 'joy', 'fear', 'fear', 'joy', 'anger', 'fear', 'anger', 'anger', 'anger', 'anger', 'anger', 'anger', 'fear', 'fear', 'fear', 'joy', 'fear', 'joy', 'joy', 'joy', 'fear', 'anger', 'fear', 'joy', 'fear', 'joy', 'joy', 'anger', 'fear', 'joy', 'fear', 'joy', 'fear', 'anger', 'joy', 'anger', 'joy', 'anger', 'fear', 'anger', 'anger', 'joy', 'fear', 'anger', 'joy', 'fear', 'joy', 'fear', 'fear', 'anger', 'fear', 'fear', 'fear', 'anger', 'anger', 'anger', 'anger', 'fear', 'fear', 'joy', 'fear', 'fear', 'anger', 'fear', 'fear', 'anger', 'fear', 'anger', 'fear', 'anger', 'fear', 'fear', 'joy', 'anger', 'anger', 'fear', 'anger', 'fear', 'fear', 'fear', 'anger', 'joy', 'joy', 'joy', 'anger', 'fear', 'anger', 'anger', 'joy', 'fear', 'joy', 'joy', 'anger', 'joy', 'anger', 'anger', 'joy', 'joy', 'joy', 'anger', 'anger', 'fear', 'joy', 'anger', 'anger', 'fear', 'fear', 'joy', 'joy', 'fear', 'anger', 'anger', 'fear', 'anger', 'anger', 'anger', 'joy', 'anger', 'joy', 'joy', 'anger', 'anger', 'anger', 'fear', 'joy', 'fear', 'anger', 'anger', 'anger', 'anger', 'fear', 'joy', 'joy', 'joy', 'anger', 'fear', 'joy', 'anger', 'fear', 'joy', 'joy', 'joy', 'joy', 'joy', 'joy', 'fear', 'anger', 'anger', 'anger', 'joy', 'anger', 'anger', 'anger', 'anger', 'joy', 'fear', 'fear', 'joy', 'anger', 'anger', 'fear', 'fear', 'fear', 'joy', 'fear', 'joy', 'fear', 'fear', 'joy', 'anger', 'anger', 'fear', 'fear', 'joy', 'joy', 'joy', 'fear', 'joy', 'fear', 'fear', 'anger', 'anger', 'joy', 'fear', 'fear', 'anger', 'fear', 'anger', 'anger', 'joy', 'fear', 'anger', 'fear', 'fear', 'anger', 'fear', 'anger', 'anger', 'joy', 'anger', 'fear', 'anger', 'joy', 'fear', 'anger', 'joy', 'anger', 'anger', 'anger', 'joy', 'joy', 'joy', 'anger', 'fear', 'anger', 'anger', 'joy', 'anger', 'joy', 'joy', 'anger', 'fear', 'fear', 'joy', 'anger', 'anger', 'fear', 'joy', 'anger', 'fear', 'fear', 'fear', 'anger', 'joy', 'fear', 'anger', 'anger', 'anger', 'anger', 'joy', 'fear', 'fear', 'anger', 'joy', 'fear', 'fear', 'joy', 'anger', 'joy', 'fear', 'anger', 'fear', 'anger', 'joy', 'joy', 'anger', 'joy', 'anger', 'joy', 'fear', 'anger', 'anger', 'fear', 'joy', 'fear', 'fear', 'joy', 'anger', 'fear', 'fear', 'anger', 'joy', 'joy', 'fear', 'fear', 'fear', 'joy', 'joy', 'joy', 'joy', 'joy', 'fear', 'anger', 'joy', 'joy', 'joy', 'fear', 'anger', 'anger', 'joy', 'fear', 'fear', 'joy', 'anger', 'joy', 'anger', 'anger', 'anger', 'anger', 'fear', 'fear', 'anger', 'joy', 'anger', 'joy', 'anger', 'anger', 'fear', 'fear', 'fear', 'fear', 'joy', 'fear', 'anger', 'joy', 'joy', 'joy', 'anger', 'anger', 'fear', 'anger', 'anger', 'fear', 'anger', 'fear', 'joy', 'fear', 'joy', 'joy', 'anger', 'joy', 'joy', 'fear', 'fear', 'anger', 'fear', 'joy', 'anger', 'anger', 'joy', 'anger', 'fear', 'joy', 'joy', 'joy', 'anger', 'anger', 'anger', 'joy', 'anger', 'anger', 'joy', 'joy', 'joy', 'fear', 'joy', 'joy', 'fear', 'joy', 'fear', 'anger', 'fear', 'joy', 'fear', 'fear', 'joy', 'anger', 'fear', 'fear', 'anger', 'joy', 'joy', 'joy', 'anger', 'anger', 'joy', 'fear', 'joy', 'anger', 'joy', 'anger', 'fear', 'fear', 'fear', 'fear', 'anger', 'fear', 'fear', 'fear', 'fear', 'fear', 'joy', 'fear', 'joy', 'joy', 'joy', 'anger', 'fear', 'fear', 'fear', 'joy', 'fear', 'joy', 'anger', 'anger', 'joy', 'joy', 'anger', 'fear', 'fear', 'fear', 'joy', 'anger', 'anger', 'anger', 'anger', 'anger', 'anger', 'joy', 'anger', 'fear', 'fear', 'joy', 'fear', 'fear', 'anger', 'fear', 'joy', 'anger', 'anger', 'fear', 'anger', 'anger', 'fear', 'anger', 'fear', 'joy', 'anger', 'fear', 'joy', 'anger', 'fear', 'fear', 'anger', 'joy', 'anger', 'fear', 'joy', 'anger', 'fear', 'fear', 'fear', 'fear', 'joy', 'joy', 'anger', 'fear', 'anger', 'joy', 'fear', 'joy', 'fear', 'fear', 'anger', 'joy', 'fear', 'joy', 'joy', 'joy', 'anger', 'joy', 'joy', 'joy', 'joy', 'joy', 'fear', 'anger', 'anger', 'fear', 'fear', 'anger', 'anger', 'joy', 'fear', 'joy', 'fear', 'anger', 'fear', 'anger', 'joy', 'anger', 'fear', 'anger', 'joy', 'fear', 'joy', 'anger', 'fear', 'fear', 'fear', 'anger', 'joy', 'anger', 'anger', 'fear', 'anger', 'fear', 'anger', 'joy', 'fear', 'fear', 'joy', 'joy', 'anger', 'joy', 'anger', 'joy', 'fear', 'fear', 'joy', 'joy', 'fear', 'joy', 'joy', 'anger', 'fear', 'fear', 'joy', 'anger', 'joy', 'fear', 'anger', 'anger', 'joy', 'anger', 'anger', 'joy', 'joy', 'anger', 'anger', 'fear', 'joy', 'fear', 'fear', 'anger', 'anger', 'anger', 'fear', 'fear', 'fear', 'fear', 'anger', 'fear', 'fear', 'anger', 'joy', 'joy', 'anger', 'anger', 'anger', 'fear', 'joy', 'joy', 'fear', 'fear', 'joy', 'joy', 'fear', 'anger', 'anger', 'joy', 'fear', 'fear', 'fear', 'joy', 'anger', 'fear', 'fear', 'anger', 'fear', 'joy', 'anger', 'joy', 'anger', 'fear', 'anger', 'joy', 'fear', 'fear', 'joy', 'fear', 'joy', 'fear', 'fear', 'fear', 'joy', 'fear', 'anger', 'anger', 'joy', 'joy', 'joy', 'fear', 'anger', 'anger', 'fear', 'joy', 'anger', 'fear', 'fear', 'anger', 'anger', 'anger', 'fear', 'fear', 'joy', 'fear', 'fear', 'anger', 'anger', 'joy', 'joy', 'fear', 'fear', 'fear', 'joy', 'fear', 'joy', 'fear', 'anger', 'fear', 'fear', 'anger', 'anger', 'anger', 'joy', 'fear', 'joy', 'fear', 'joy', 'joy', 'joy', 'fear', 'fear', 'fear', 'fear', 'joy', 'fear', 'anger', 'joy', 'anger', 'anger', 'joy', 'anger', 'anger', 'anger', 'joy', 'fear', 'fear', 'anger', 'joy', 'fear', 'joy', 'joy', 'fear', 'anger', 'anger', 'joy', 'anger', 'anger', 'fear', 'anger', 'joy', 'fear', 'fear', 'anger', 'anger', 'anger', 'joy', 'joy', 'anger', 'anger', 'anger', 'joy', 'anger', 'fear', 'anger', 'anger', 'fear', 'joy', 'joy', 'fear', 'anger', 'fear', 'joy', 'fear', 'joy', 'joy', 'joy', 'anger', 'fear', 'joy', 'anger', 'fear', 'anger', 'anger', 'anger', 'fear', 'joy', 'joy', 'anger', 'anger', 'anger', 'joy', 'fear', 'joy', 'anger', 'anger', 'fear', 'anger', 'anger', 'anger', 'anger']\n"
     ]
    }
   ],
   "source": [
    "myPrediction = my_nb.predict(X_test)\n",
    "print(\"My Prediction:\")\n",
    "print(myPrediction)"
   ]
  },
  {
   "cell_type": "code",
   "execution_count": 24,
   "id": "f449e3ff",
   "metadata": {
    "execution": {
     "iopub.execute_input": "2023-12-02T19:01:50.908106Z",
     "iopub.status.busy": "2023-12-02T19:01:50.906862Z",
     "iopub.status.idle": "2023-12-02T19:01:50.915666Z",
     "shell.execute_reply": "2023-12-02T19:01:50.913997Z"
    },
    "id": "GlrvfgIClGNq",
    "papermill": {
     "duration": 0.02791,
     "end_time": "2023-12-02T19:01:50.917883",
     "exception": false,
     "start_time": "2023-12-02T19:01:50.889973",
     "status": "completed"
    },
    "tags": []
   },
   "outputs": [
    {
     "name": "stdout",
     "output_type": "stream",
     "text": [
      "scikit-learn Prediction :\n",
      "['joy' 'fear' 'fear' ... 'anger' 'anger' 'anger']\n"
     ]
    }
   ],
   "source": [
    "sklearnPrediction = sklearn_nb.predict(X_test_counts)\n",
    "print(\"scikit-learn Prediction :\")\n",
    "\n",
    "print(sklearnPrediction)"
   ]
  },
  {
   "cell_type": "markdown",
   "id": "1ec24bcc",
   "metadata": {
    "id": "t9B1GJB4lFWE",
    "papermill": {
     "duration": 0.014239,
     "end_time": "2023-12-02T19:01:50.947047",
     "exception": false,
     "start_time": "2023-12-02T19:01:50.932808",
     "status": "completed"
    },
    "tags": []
   },
   "source": [
    "Compute Confusion matrix and classification report for each model "
   ]
  },
  {
   "cell_type": "code",
   "execution_count": 25,
   "id": "f1b01867",
   "metadata": {
    "execution": {
     "iopub.execute_input": "2023-12-02T19:01:50.977425Z",
     "iopub.status.busy": "2023-12-02T19:01:50.977107Z",
     "iopub.status.idle": "2023-12-02T19:01:51.011967Z",
     "shell.execute_reply": "2023-12-02T19:01:51.010160Z"
    },
    "id": "YT-F4Hsvmtv0",
    "papermill": {
     "duration": 0.052925,
     "end_time": "2023-12-02T19:01:51.014466",
     "exception": false,
     "start_time": "2023-12-02T19:01:50.961541",
     "status": "completed"
    },
    "tags": []
   },
   "outputs": [
    {
     "name": "stdout",
     "output_type": "stream",
     "text": [
      "My Confusion Matrix:\n",
      "[[321  62  45]\n",
      " [ 43 301  46]\n",
      " [ 30  42 298]]\n",
      "\n",
      "------------------------------\n",
      "\n",
      "My Report:\n",
      "              precision    recall  f1-score   support\n",
      "\n",
      "       anger       0.81      0.75      0.78       428\n",
      "        fear       0.74      0.77      0.76       390\n",
      "         joy       0.77      0.81      0.79       370\n",
      "\n",
      "    accuracy                           0.77      1188\n",
      "   macro avg       0.77      0.78      0.77      1188\n",
      "weighted avg       0.78      0.77      0.77      1188\n",
      "\n"
     ]
    }
   ],
   "source": [
    "myConfusion = confusion_matrix(Y_test, myPrediction)\n",
    "print(\"My Confusion Matrix:\")\n",
    "print(myConfusion)\n",
    "\n",
    "print(\"\\n------------------------------\\n\")\n",
    "\n",
    "myReport = classification_report(Y_test, myPrediction)\n",
    "print(\"My Report:\")\n",
    "print(myReport)"
   ]
  },
  {
   "cell_type": "code",
   "execution_count": 26,
   "id": "f3edf5ca",
   "metadata": {
    "execution": {
     "iopub.execute_input": "2023-12-02T19:01:51.046840Z",
     "iopub.status.busy": "2023-12-02T19:01:51.046208Z",
     "iopub.status.idle": "2023-12-02T19:01:51.081958Z",
     "shell.execute_reply": "2023-12-02T19:01:51.080067Z"
    },
    "id": "9d1Ww_gWm9up",
    "papermill": {
     "duration": 0.055245,
     "end_time": "2023-12-02T19:01:51.084968",
     "exception": false,
     "start_time": "2023-12-02T19:01:51.029723",
     "status": "completed"
    },
    "tags": []
   },
   "outputs": [
    {
     "name": "stdout",
     "output_type": "stream",
     "text": [
      "sklearn Confusion Matrix:\n",
      "[[377  28  23]\n",
      " [ 18 352  20]\n",
      " [ 18  25 327]]\n",
      "\n",
      "------------------------------\n",
      "\n",
      "sklearn Report:\n",
      "              precision    recall  f1-score   support\n",
      "\n",
      "       anger       0.91      0.88      0.90       428\n",
      "        fear       0.87      0.90      0.89       390\n",
      "         joy       0.88      0.88      0.88       370\n",
      "\n",
      "    accuracy                           0.89      1188\n",
      "   macro avg       0.89      0.89      0.89      1188\n",
      "weighted avg       0.89      0.89      0.89      1188\n",
      "\n"
     ]
    }
   ],
   "source": [
    "sklearnConfusion = confusion_matrix(Y_test, sklearnPrediction)\n",
    "print(\"sklearn Confusion Matrix:\")\n",
    "print(sklearnConfusion)\n",
    "\n",
    "print(\"\\n------------------------------\\n\")\n",
    "\n",
    "sklearnReport = classification_report(Y_test, sklearnPrediction)\n",
    "print(\"sklearn Report:\")\n",
    "print(sklearnReport)"
   ]
  },
  {
   "cell_type": "markdown",
   "id": "8fa97aaa",
   "metadata": {
    "id": "VxsQ2oA8lHhg",
    "papermill": {
     "duration": 0.017491,
     "end_time": "2023-12-02T19:01:51.213272",
     "exception": false,
     "start_time": "2023-12-02T19:01:51.195781",
     "status": "completed"
    },
    "tags": []
   },
   "source": [
    "Model Performance Intuition Part: Now, we can test whether your model has a good prediction for a random text."
   ]
  },
  {
   "cell_type": "code",
   "execution_count": 27,
   "id": "d9e39b58",
   "metadata": {
    "execution": {
     "iopub.execute_input": "2023-12-02T19:01:51.249101Z",
     "iopub.status.busy": "2023-12-02T19:01:51.247839Z",
     "iopub.status.idle": "2023-12-02T19:01:51.261791Z",
     "shell.execute_reply": "2023-12-02T19:01:51.260679Z"
    },
    "id": "MGZOyfU8aszg",
    "papermill": {
     "duration": 0.033778,
     "end_time": "2023-12-02T19:01:51.263588",
     "exception": false,
     "start_time": "2023-12-02T19:01:51.229810",
     "status": "completed"
    },
    "tags": []
   },
   "outputs": [
    {
     "name": "stdout",
     "output_type": "stream",
     "text": [
      "anger\n",
      "fear\n",
      "fear\n"
     ]
    }
   ],
   "source": [
    "# example = datatransform([\"Look! behind that tree there is a secret object, I am so scared\"])\n",
    "# model.predict(example)\n",
    "\n",
    "def process_and_predict(txts):\n",
    "    pr = Preprocessor()\n",
    "    \n",
    "    text_tokenize = txts['Text'].apply(pr.word_tokenize)\n",
    "    cleaned_text = text_tokenize.apply(pr.remove_punctuations)\n",
    "    txts['Text'] = [' '.join(words) for words in cleaned_text]\n",
    "    \n",
    "    text_tokenize = txts['Text'].apply(pr.word_tokenize)\n",
    "    remove_sw_text = text_tokenize.apply(pr.remove_stopwords)\n",
    "    txts['Text'] = [' '.join(words) for words in remove_sw_text]\n",
    "    \n",
    "    predictions = my_nb.predict(txts['Text'])\n",
    "    \n",
    "    return predictions\n",
    "\n",
    "\n",
    "\n",
    "example = [\"I want to withdraw from this course, I'm frustrated\",\"I'm really thrilled to learn more about machine learning.\",\"I feel really scared!!!\"]\n",
    "\n",
    "df_example = pd.DataFrame({\"Text\": example})\n",
    "\n",
    "example_predictions = process_and_predict(df_example)\n",
    "\n",
    "for res in example_predictions:\n",
    "    print(res)\n"
   ]
  },
  {
   "cell_type": "markdown",
   "id": "acd253c7",
   "metadata": {
    "papermill": {
     "duration": 0.013886,
     "end_time": "2023-12-02T19:01:51.292057",
     "exception": false,
     "start_time": "2023-12-02T19:01:51.278171",
     "status": "completed"
    },
    "tags": []
   },
   "source": [
    "# Phase 5: Neural Net "
   ]
  },
  {
   "cell_type": "markdown",
   "id": "61e78c29",
   "metadata": {
    "papermill": {
     "duration": 0.013889,
     "end_time": "2023-12-02T19:01:51.319876",
     "exception": false,
     "start_time": "2023-12-02T19:01:51.305987",
     "status": "completed"
    },
    "tags": []
   },
   "source": [
    "Make a list of words available in the dataset"
   ]
  },
  {
   "cell_type": "code",
   "execution_count": 28,
   "id": "42f97de5",
   "metadata": {
    "execution": {
     "iopub.execute_input": "2023-12-02T19:01:51.350954Z",
     "iopub.status.busy": "2023-12-02T19:01:51.349779Z",
     "iopub.status.idle": "2023-12-02T19:02:03.483042Z",
     "shell.execute_reply": "2023-12-02T19:02:03.481778Z"
    },
    "papermill": {
     "duration": 12.151813,
     "end_time": "2023-12-02T19:02:03.485997",
     "exception": false,
     "start_time": "2023-12-02T19:01:51.334184",
     "status": "completed"
    },
    "tags": []
   },
   "outputs": [],
   "source": [
    "import tensorflow as tf\n",
    "from tensorflow.keras.preprocessing.text import Tokenizer\n",
    "from tensorflow.keras.preprocessing.sequence import pad_sequences\n",
    "from tensorflow.keras.models import Sequential\n",
    "from tensorflow.keras.layers import LSTM, Dense, Embedding\n",
    "from sklearn.model_selection import train_test_split\n"
   ]
  },
  {
   "cell_type": "code",
   "execution_count": 29,
   "id": "12a1dd05",
   "metadata": {
    "execution": {
     "iopub.execute_input": "2023-12-02T19:02:03.518425Z",
     "iopub.status.busy": "2023-12-02T19:02:03.517777Z",
     "iopub.status.idle": "2023-12-02T19:02:03.748098Z",
     "shell.execute_reply": "2023-12-02T19:02:03.746944Z"
    },
    "papermill": {
     "duration": 0.249221,
     "end_time": "2023-12-02T19:02:03.750692",
     "exception": false,
     "start_time": "2023-12-02T19:02:03.501471",
     "status": "completed"
    },
    "tags": []
   },
   "outputs": [],
   "source": [
    "texts = ds['Text']\n",
    "label_list = ds['Feeling']\n",
    "\n",
    "\n",
    "tokenizer = Tokenizer(num_words=10000)  \n",
    "tokenizer.fit_on_texts(texts)\n",
    "sequences = tokenizer.texts_to_sequences(texts)"
   ]
  },
  {
   "cell_type": "markdown",
   "id": "36e6d3d7",
   "metadata": {
    "papermill": {
     "duration": 0.014743,
     "end_time": "2023-12-02T19:02:03.780520",
     "exception": false,
     "start_time": "2023-12-02T19:02:03.765777",
     "status": "completed"
    },
    "tags": []
   },
   "source": [
    "Retrieve the Word2Vec embeddings for each word"
   ]
  },
  {
   "cell_type": "code",
   "execution_count": 30,
   "id": "b816e316",
   "metadata": {
    "execution": {
     "iopub.execute_input": "2023-12-02T19:02:03.814729Z",
     "iopub.status.busy": "2023-12-02T19:02:03.814331Z",
     "iopub.status.idle": "2023-12-02T19:02:03.840549Z",
     "shell.execute_reply": "2023-12-02T19:02:03.839074Z"
    },
    "papermill": {
     "duration": 0.045755,
     "end_time": "2023-12-02T19:02:03.843339",
     "exception": false,
     "start_time": "2023-12-02T19:02:03.797584",
     "status": "completed"
    },
    "tags": []
   },
   "outputs": [],
   "source": [
    "max_sequence_length = max(len(sequence) for sequence in sequences)\n",
    "\n",
    "\n",
    "padded_sequences = pad_sequences(sequences, maxlen=max_sequence_length)\n",
    "\n",
    "\n",
    "label_index = {label: idx for idx, label in enumerate(set(label_list))}\n",
    "label_indices = [label_index[label] for label in label_list]\n",
    "categorical_labels = tf.keras.utils.to_categorical(label_indices)\n"
   ]
  },
  {
   "cell_type": "markdown",
   "id": "7792917d",
   "metadata": {
    "papermill": {
     "duration": 0.015144,
     "end_time": "2023-12-02T19:02:03.874686",
     "exception": false,
     "start_time": "2023-12-02T19:02:03.859542",
     "status": "completed"
    },
    "tags": []
   },
   "source": [
    "Train a neural network consisting of LSTM and Fully-Connected layers to perform text classification "
   ]
  },
  {
   "cell_type": "markdown",
   "id": "a52a6f2d",
   "metadata": {
    "papermill": {
     "duration": 0.015202,
     "end_time": "2023-12-02T19:02:03.905280",
     "exception": false,
     "start_time": "2023-12-02T19:02:03.890078",
     "status": "completed"
    },
    "tags": []
   },
   "source": [
    "Note: To get the points, Your neural net's performance should be at least as good as the Naive Bayes classifier. The exact architecture of the neural net is up to you. You can use Pytorch or Tensorflow to train it."
   ]
  },
  {
   "cell_type": "code",
   "execution_count": 31,
   "id": "e467eeed",
   "metadata": {
    "execution": {
     "iopub.execute_input": "2023-12-02T19:02:03.941074Z",
     "iopub.status.busy": "2023-12-02T19:02:03.940730Z",
     "iopub.status.idle": "2023-12-02T19:03:51.794884Z",
     "shell.execute_reply": "2023-12-02T19:03:51.793142Z"
    },
    "papermill": {
     "duration": 107.875045,
     "end_time": "2023-12-02T19:03:51.797708",
     "exception": false,
     "start_time": "2023-12-02T19:02:03.922663",
     "status": "completed"
    },
    "tags": []
   },
   "outputs": [
    {
     "name": "stdout",
     "output_type": "stream",
     "text": [
      "Epoch 1/10\n",
      "149/149 [==============================] - 14s 71ms/step - loss: 0.8979 - accuracy: 0.5574\n",
      "Epoch 2/10\n",
      "149/149 [==============================] - 11s 71ms/step - loss: 0.1719 - accuracy: 0.9497\n",
      "Epoch 3/10\n",
      "149/149 [==============================] - 10s 70ms/step - loss: 0.0540 - accuracy: 0.9853\n",
      "Epoch 4/10\n",
      "149/149 [==============================] - 10s 70ms/step - loss: 0.0329 - accuracy: 0.9922\n",
      "Epoch 5/10\n",
      "149/149 [==============================] - 10s 69ms/step - loss: 0.0293 - accuracy: 0.9928\n",
      "Epoch 6/10\n",
      "149/149 [==============================] - 10s 69ms/step - loss: 0.0157 - accuracy: 0.9968\n",
      "Epoch 7/10\n",
      "149/149 [==============================] - 11s 71ms/step - loss: 0.0158 - accuracy: 0.9966\n",
      "Epoch 8/10\n",
      "149/149 [==============================] - 10s 69ms/step - loss: 0.0330 - accuracy: 0.9893\n",
      "Epoch 9/10\n",
      "149/149 [==============================] - 10s 68ms/step - loss: 0.0312 - accuracy: 0.9899\n",
      "Epoch 10/10\n",
      "149/149 [==============================] - 10s 70ms/step - loss: 0.0099 - accuracy: 0.9975\n"
     ]
    },
    {
     "data": {
      "text/plain": [
       "<keras.src.callbacks.History at 0x7e90b934df00>"
      ]
     },
     "execution_count": 31,
     "metadata": {},
     "output_type": "execute_result"
    }
   ],
   "source": [
    "X_train, X_test, y_train, y_test = train_test_split(padded_sequences, categorical_labels, test_size=0.2, random_state=42)\n",
    "\n",
    "\n",
    "model = Sequential()\n",
    "model.add(Embedding(input_dim=10000, output_dim=128, input_length=max_sequence_length))\n",
    "model.add(LSTM(64, return_sequences=True))\n",
    "model.add(LSTM(64))\n",
    "model.add(Dense(len(set(label_list)), activation='softmax'))  \n",
    "\n",
    "\n",
    "model.compile(optimizer='adam', loss='categorical_crossentropy', metrics=['accuracy'])\n",
    "\n",
    "\n",
    "\n",
    "model.fit(X_train, y_train, batch_size=32, epochs=10)\n"
   ]
  },
  {
   "cell_type": "markdown",
   "id": "f0fbb5f6",
   "metadata": {
    "papermill": {
     "duration": 0.103849,
     "end_time": "2023-12-02T19:03:52.004173",
     "exception": false,
     "start_time": "2023-12-02T19:03:51.900324",
     "status": "completed"
    },
    "tags": []
   },
   "source": [
    "Evaluate the neural net on the training and testing data from the section *3-1-2*. "
   ]
  },
  {
   "cell_type": "code",
   "execution_count": 32,
   "id": "60d162c1",
   "metadata": {
    "execution": {
     "iopub.execute_input": "2023-12-02T19:03:52.217274Z",
     "iopub.status.busy": "2023-12-02T19:03:52.216899Z",
     "iopub.status.idle": "2023-12-02T19:03:56.381110Z",
     "shell.execute_reply": "2023-12-02T19:03:56.379824Z"
    },
    "papermill": {
     "duration": 4.271611,
     "end_time": "2023-12-02T19:03:56.383723",
     "exception": false,
     "start_time": "2023-12-02T19:03:52.112112",
     "status": "completed"
    },
    "tags": []
   },
   "outputs": [
    {
     "name": "stdout",
     "output_type": "stream",
     "text": [
      "149/149 [==============================] - 3s 18ms/step - loss: 0.0064 - accuracy: 0.9985\n",
      "38/38 [==============================] - 1s 18ms/step - loss: 0.2784 - accuracy: 0.9268\n",
      "Training Accuracy: 0.9985259771347046\n",
      "Testing Accuracy: 0.9267676472663879\n"
     ]
    }
   ],
   "source": [
    "train_loss, train_accuracy = model.evaluate(X_train, y_train)\n",
    "test_loss, test_accuracy = model.evaluate(X_test, y_test)\n",
    "\n",
    "print(\"Training Accuracy:\", train_accuracy)\n",
    "print(\"Testing Accuracy:\", test_accuracy)\n"
   ]
  }
 ],
 "metadata": {
  "colab": {
   "collapsed_sections": [
    "wyO9QVndoLPQ",
    "RIIiFseLa3lF",
    "qwRicPs98nN9",
    "nW-PD4yKVcOZ"
   ],
   "provenance": []
  },
  "kaggle": {
   "accelerator": "none",
   "dataSources": [],
   "dockerImageVersionId": 30579,
   "isGpuEnabled": false,
   "isInternetEnabled": true,
   "language": "python",
   "sourceType": "notebook"
  },
  "kernelspec": {
   "display_name": "Python 3",
   "language": "python",
   "name": "python3"
  },
  "language_info": {
   "codemirror_mode": {
    "name": "ipython",
    "version": 3
   },
   "file_extension": ".py",
   "mimetype": "text/x-python",
   "name": "python",
   "nbconvert_exporter": "python",
   "pygments_lexer": "ipython3",
   "version": "3.10.12"
  },
  "papermill": {
   "default_parameters": {},
   "duration": 159.468363,
   "end_time": "2023-12-02T19:04:00.075348",
   "environment_variables": {},
   "exception": null,
   "input_path": "__notebook__.ipynb",
   "output_path": "__notebook__.ipynb",
   "parameters": {},
   "start_time": "2023-12-02T19:01:20.606985",
   "version": "2.4.0"
  }
 },
 "nbformat": 4,
 "nbformat_minor": 5
}
